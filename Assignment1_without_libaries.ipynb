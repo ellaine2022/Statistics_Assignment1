{
 "cells": [
  {
   "cell_type": "code",
   "execution_count": null,
   "id": "6a3768ff-a6b6-4ad5-b178-5e354e358b32",
   "metadata": {},
   "outputs": [],
   "source": [
    "#main source of data\n",
    "text = \"Thereby mini-mizing subjectivity in the sense of potential biases and preconceptions. The latter point seems especially called for given the delicate stance that degrowth takes, or seems to take, towards, some of the main tenets of ‘orthodox’ (or ‘mainstream’) economic theory (cf. Hickel, 2021). In addition, we use a network analysis approach of bibliometric data through co-authorships to identify influential authors and clusters of close collaboration. This mixed-methods approach with a firm base in multivariate statistics also provides an alternative to other recent reviews of the filed that have focused exclusively on qualitative clustering methods (Fitzpatrick et al.,2022; Kallis et al.,2018; Weiss and Cattaneo,2017). Our paper proceeds as follows. After clarifying the key concepts such as d ecroissance, stationary economy degrowth in Section 2, we give a detailed overview on our methods used in Section 3. Section 4 presents our results, before we discuss them in Section 5 and draw some conclusions in section 6. We clarify the most important concepts relevant in the degrowth discourse in the following. In the particular, we follow Martinez-Alier et al. (Martinez-Alier et al., 2010) in distinguishing between the French approach to degrowth, i.e. d ecroissance or ‘degrowth ‘a la Francaise’, and degrowth in ecological economics. Here, we review the first 15 years of degrowth research as published in academic peer-reviewed journals. Specifically, we analyze all peer-reviewed research referring to degrowth or post growth in title, keywords or abstract that was published from 2008 through 2022 as an English language journal article. (henceforth: degrowth literature1). In particular, using a mixed-methods approach, we address the following four research gaps: (1) we use as inductive multivariate statistical procedure to identify the main clusters within the degrowth literature and to map the conceptual landscape of degrowth; (2) we provide a quantitative account of which journals and authors cater to what cluster; (3) we provide a network analysis of co-authorship in the field; (4) we provide a qualitative analysis of distributional and monetary policy proposals brought forward in the degrowth literature. Our clustering procedure, which is itself inspired by plant ecology’s indictor species analysis (Dufrene and Legendre, 1997), is well established and has proven suitable for relatively young scientific fields or concepts that have seen a deep rise in popularity, such as ecosystem services (Abson et al.,2014), sustainability economics (Drupp et al\"\n",
    "\n",
    "#saves every word in a list, however special characters are not split from the words\n",
    "word_list = text.split() \n",
    "\n",
    "#creates a list of every word in the text \n",
    "cleaned_text = ''.join(char for char in text if char.isalnum() or char.isspace()) #only includes characters that can be in a word\n",
    "cleaned_word_list = cleaned_text.split() \n",
    "print(cleaned_word_list)"
   ]
  },
  {
   "cell_type": "code",
   "execution_count": null,
   "id": "550ff530-d215-4d1c-82e9-437803d19383",
   "metadata": {},
   "outputs": [],
   "source": [
    "#frequency of words \n",
    "word_count ={} #creates a dict \n",
    "\n",
    "for word in cleaned_word_list: #loops through the list of words\n",
    "    word = word.lower() #puts everything in lowercase (so it does not matter if a word is at the beginning of a sentence of in the middle/end)\n",
    "    if word in word_count:\n",
    "        word_count[word] += 1 #if the word is already in the dict, the counter for that word will add 1\n",
    "    else:\n",
    "        word_count[word] = 1 #if the word does not exist yet, it will count 1\n",
    "\n",
    "print(word_count)"
   ]
  },
  {
   "cell_type": "code",
   "execution_count": null,
   "id": "6a9ba62e-cf13-415f-9802-d290a3c2b2c3",
   "metadata": {},
   "outputs": [],
   "source": [
    "#create a new list that only includes a word once \n",
    "new_word_list = [key for key in word_count]\n",
    "print(new_word_list)"
   ]
  },
  {
   "cell_type": "code",
   "execution_count": null,
   "id": "30d29c9a-314a-4788-b37b-922cdc1de034",
   "metadata": {},
   "outputs": [],
   "source": [
    "#length of word \n",
    "word_length ={word: len(word) for word in word_count} #dict that indicates how many characters a word has \n",
    "\n",
    "print(word_length)\n"
   ]
  },
  {
   "cell_type": "code",
   "execution_count": null,
   "id": "239dc072-1217-419e-aac5-f5577cad281b",
   "metadata": {},
   "outputs": [],
   "source": [
    "#categorize the words\n",
    "\n",
    "def categorize_word(word):\n",
    "    nouns = ['ness', 'tion', 'ment', 'ity', 'er', 'or', 's', 'e', 'age'] #specifications of word categories\n",
    "    verbs = ['ate', 'ify', 'ize', 'en']\n",
    "    adjectives = ['able', 'ible', 'ful', 'less', 'ous', 'ic', 'al', 'y']\n",
    "\n",
    "    #checks if the word ends with any of the suffixes \n",
    "    for suffix in nouns:\n",
    "        if word.endswith(suffix):\n",
    "            return 'Noun'\n",
    "\n",
    "    for suffix in verbs: \n",
    "        if word.endswith(suffix):\n",
    "            return 'Verb'\n",
    "\n",
    "    for suffix in adjectives:\n",
    "        if word.endswith(suffix):\n",
    "            return 'Adjective'\n",
    "\n",
    "    return 'Unknown' #if the word cannot be identified, return \"Unkown\"\n",
    "\n",
    "def categorized_words(word_list): \n",
    "    categorized_words_dict = {} #create dict\n",
    "    for word in word_list: #loops through every word in a list \n",
    "        categorized_words_dict[word] = categorize_word(word) #adds the word category to the word and saves it in the dict\n",
    "    return categorized_words_dict\n",
    "\n",
    "categorized_words_dict = categorized_words(new_word_list)\n",
    "print(categorized_words_dict)"
   ]
  },
  {
   "cell_type": "code",
   "execution_count": null,
   "id": "23c5b1ee-6d89-42cc-ba20-a3875653e06e",
   "metadata": {},
   "outputs": [],
   "source": []
  }
 ],
 "metadata": {
  "kernelspec": {
   "display_name": "Python 3 (ipykernel)",
   "language": "python",
   "name": "python3"
  },
  "language_info": {
   "codemirror_mode": {
    "name": "ipython",
    "version": 3
   },
   "file_extension": ".py",
   "mimetype": "text/x-python",
   "name": "python",
   "nbconvert_exporter": "python",
   "pygments_lexer": "ipython3",
   "version": "3.12.3"
  }
 },
 "nbformat": 4,
 "nbformat_minor": 5
}
